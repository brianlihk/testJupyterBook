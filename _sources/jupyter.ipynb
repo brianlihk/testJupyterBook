{
 "cells": [
  {
   "cell_type": "markdown",
   "id": "4c36f55a",
   "metadata": {},
   "source": [
    "# Markdown content is written as regular markdown"
   ]
  },
  {
   "cell_type": "code",
   "execution_count": 1,
   "id": "467e68de",
   "metadata": {
    "cellmetadatakey": "val1"
   },
   "outputs": [
    {
     "name": "stdout",
     "output_type": "stream",
     "text": [
      "Here is a Python cell\n"
     ]
    }
   ],
   "source": [
    "print(\"Here is a Python cell\")"
   ]
  },
  {
   "cell_type": "markdown",
   "id": "7f47b836",
   "metadata": {},
   "source": [
    "And here is more markdown."
   ]
  },
  {
   "cell_type": "markdown",
   "id": "0d98cec4",
   "metadata": {},
   "source": [
    "Separate markdown cells with `+++` lines."
   ]
  },
  {
   "cell_type": "code",
   "execution_count": 2,
   "id": "96de7b68",
   "metadata": {
    "cellmetadatakey": "val1"
   },
   "outputs": [
    {
     "name": "stdout",
     "output_type": "stream",
     "text": [
      "<module 'numpy' from '/Users/brianli/miniforge3/lib/python3.9/site-packages/numpy/__init__.py'>\n"
     ]
    }
   ],
   "source": [
    "import numpy as np\n",
    "print(np)"
   ]
  }
 ],
 "metadata": {
  "jupytext": {
   "text_representation": {
    "extension": ".md",
    "format_name": "myst",
    "format_version": 0.13,
    "jupytext_version": "1.11.5"
   }
  },
  "kernelspec": {
   "display_name": "Python 3",
   "name": "python3"
  },
  "language_info": {
   "codemirror_mode": {
    "name": "ipython",
    "version": 3
   },
   "file_extension": ".py",
   "mimetype": "text/x-python",
   "name": "python",
   "nbconvert_exporter": "python",
   "pygments_lexer": "ipython3",
   "version": "3.9.7"
  },
  "source_map": [
   11,
   15,
   19,
   23,
   27
  ]
 },
 "nbformat": 4,
 "nbformat_minor": 5
}