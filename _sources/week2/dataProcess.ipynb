{
 "cells": [
  {
   "cell_type": "markdown",
   "id": "361b9db0",
   "metadata": {},
   "source": [
    "# Data process and visualize using jupyter book\n",
    "\n",
    "## Introduction\n",
    "Today i will follow insturction from [Interactive Data Analysis with FigureWidget ipywidgets in Python](https://plotly.com/python/figurewidget-app/) to develop a form with HKGov's database.\n",
    "---\n",
    "## Importing libararies"
   ]
  },
  {
   "cell_type": "code",
   "execution_count": 1,
   "id": "00444855",
   "metadata": {},
   "outputs": [],
   "source": [
    "import datetime\n",
    "import numpy as np\n",
    "import pandas as pd\n",
    "import requests\n",
    "\n",
    "import plotly.graph_objects as go\n",
    "from ipywidgets import widgets"
   ]
  },
  {
   "cell_type": "markdown",
   "id": "02080353",
   "metadata": {},
   "source": [
    "---\n",
    "## Downloading material to process\n",
    "We will download school list data from HKGov: [School Location and Information](https://data.gov.hk/en-data/dataset/hk-edb-schinfo-school-location-and-information) which contains he names, addresses, coordinates and other relevant information of government, private, aided, Direct Subsidy Scheme, English Schools Foundation and international schools, kindergartens and kindergartens cum-child care centre (as at 28 December 2021). For precise, the file link is: [http://www.edb.gov.hk/attachment/en/student-parents/sch-info/sch-search/sch-location-info/SCH_LOC_EDB.xlsx](http://www.edb.gov.hk/attachment/en/student-parents/sch-info/sch-search/sch-location-info/SCH_LOC_EDB.xlsx)"
   ]
  },
  {
   "cell_type": "markdown",
   "id": "71a5ecbe",
   "metadata": {},
   "source": [
    "We will use this file as our raw data and visualize it."
   ]
  },
  {
   "cell_type": "code",
   "execution_count": 2,
   "id": "19d3e3a4",
   "metadata": {},
   "outputs": [
    {
     "data": {
      "text/html": [
       "<div>\n",
       "<style scoped>\n",
       "    .dataframe tbody tr th:only-of-type {\n",
       "        vertical-align: middle;\n",
       "    }\n",
       "\n",
       "    .dataframe tbody tr th {\n",
       "        vertical-align: top;\n",
       "    }\n",
       "\n",
       "    .dataframe thead th {\n",
       "        text-align: right;\n",
       "    }\n",
       "</style>\n",
       "<table border=\"1\" class=\"dataframe\">\n",
       "  <thead>\n",
       "    <tr style=\"text-align: right;\">\n",
       "      <th></th>\n",
       "      <th>ENGLISH CATEGORY</th>\n",
       "      <th>中文類別</th>\n",
       "      <th>ENGLISH NAME</th>\n",
       "      <th>中文名稱</th>\n",
       "      <th>ENGLISH ADDRESS</th>\n",
       "      <th>中文地址</th>\n",
       "      <th>LONGITUDE</th>\n",
       "      <th>經度</th>\n",
       "      <th>LATITUDE</th>\n",
       "      <th>緯度</th>\n",
       "      <th>...</th>\n",
       "      <th>SCHOOL LEVEL</th>\n",
       "      <th>學校類型</th>\n",
       "      <th>TELEPHONE</th>\n",
       "      <th>聯絡電話</th>\n",
       "      <th>FAX NUMBER</th>\n",
       "      <th>傳真號碼</th>\n",
       "      <th>WEBSITE</th>\n",
       "      <th>網頁</th>\n",
       "      <th>RELIGION</th>\n",
       "      <th>宗教</th>\n",
       "    </tr>\n",
       "  </thead>\n",
       "  <tbody>\n",
       "    <tr>\n",
       "      <th>1960</th>\n",
       "      <td>Kindergarten-cum-child Care Centres</td>\n",
       "      <td>幼稚園暨幼兒中心</td>\n",
       "      <td>THE WOODLAND MONTESSORI PRE-SCHOOL (CAINE ROAD)</td>\n",
       "      <td>THE WOODLAND MONTESSORI PRE-SCHOOL (CAINE ROAD)</td>\n",
       "      <td>1/F TO 2/F ON FUNG BUILDING 110-118 CAINE ROAD...</td>\n",
       "      <td>香港堅道１１０－１１８號安峰大廈１樓至２樓</td>\n",
       "      <td>114.150141</td>\n",
       "      <td>114.150141</td>\n",
       "      <td>22.282697</td>\n",
       "      <td>22.282697</td>\n",
       "      <td>...</td>\n",
       "      <td>KINDERGARTEN-CUM-CHILD CARE CENTRES</td>\n",
       "      <td>幼稚園暨幼兒中心</td>\n",
       "      <td>25491211</td>\n",
       "      <td>25491211</td>\n",
       "      <td>25499011</td>\n",
       "      <td>25499011</td>\n",
       "      <td>http://www.woodlandschools.com/channel.php?cha...</td>\n",
       "      <td>http://www.woodlandschools.com/channel.php?cha...</td>\n",
       "      <td>NOT APPLICABLE</td>\n",
       "      <td>不適用</td>\n",
       "    </tr>\n",
       "    <tr>\n",
       "      <th>561</th>\n",
       "      <td>Aided Secondary Schools</td>\n",
       "      <td>資助中學</td>\n",
       "      <td>HOLY FAMILY CANOSSIAN COLLEGE</td>\n",
       "      <td>嘉諾撒聖家書院</td>\n",
       "      <td>33 INVERNESS ROAD KOWLOON</td>\n",
       "      <td>九龍延文禮士道33號</td>\n",
       "      <td>114.185407</td>\n",
       "      <td>114.185407</td>\n",
       "      <td>22.334309</td>\n",
       "      <td>22.334309</td>\n",
       "      <td>...</td>\n",
       "      <td>SECONDARY</td>\n",
       "      <td>中學</td>\n",
       "      <td>23379123,23379080</td>\n",
       "      <td>23379123,23379080</td>\n",
       "      <td>23370827</td>\n",
       "      <td>23370827</td>\n",
       "      <td>http://www.hfcc.edu.hk</td>\n",
       "      <td>http://www.hfcc.edu.hk</td>\n",
       "      <td>CATHOLICISM</td>\n",
       "      <td>天主教</td>\n",
       "    </tr>\n",
       "  </tbody>\n",
       "</table>\n",
       "<p>2 rows × 32 columns</p>\n",
       "</div>"
      ],
      "text/plain": [
       "                         ENGLISH CATEGORY      中文類別  \\\n",
       "1960  Kindergarten-cum-child Care Centres  幼稚園暨幼兒中心   \n",
       "561               Aided Secondary Schools      資助中學   \n",
       "\n",
       "                                         ENGLISH NAME  \\\n",
       "1960  THE WOODLAND MONTESSORI PRE-SCHOOL (CAINE ROAD)   \n",
       "561                     HOLY FAMILY CANOSSIAN COLLEGE   \n",
       "\n",
       "                                                 中文名稱  \\\n",
       "1960  THE WOODLAND MONTESSORI PRE-SCHOOL (CAINE ROAD)   \n",
       "561                                           嘉諾撒聖家書院   \n",
       "\n",
       "                                        ENGLISH ADDRESS  \\\n",
       "1960  1/F TO 2/F ON FUNG BUILDING 110-118 CAINE ROAD...   \n",
       "561                           33 INVERNESS ROAD KOWLOON   \n",
       "\n",
       "                       中文地址   LONGITUDE          經度   LATITUDE         緯度  \\\n",
       "1960  香港堅道１１０－１１８號安峰大廈１樓至２樓  114.150141  114.150141  22.282697  22.282697   \n",
       "561              九龍延文禮士道33號  114.185407  114.185407  22.334309  22.334309   \n",
       "\n",
       "      ...                         SCHOOL LEVEL      學校類型          TELEPHONE  \\\n",
       "1960  ...  KINDERGARTEN-CUM-CHILD CARE CENTRES  幼稚園暨幼兒中心           25491211   \n",
       "561   ...                            SECONDARY        中學  23379123,23379080   \n",
       "\n",
       "                   聯絡電話 FAX NUMBER      傳真號碼  \\\n",
       "1960           25491211   25499011  25499011   \n",
       "561   23379123,23379080   23370827  23370827   \n",
       "\n",
       "                                                WEBSITE  \\\n",
       "1960  http://www.woodlandschools.com/channel.php?cha...   \n",
       "561                              http://www.hfcc.edu.hk   \n",
       "\n",
       "                                                     網頁        RELIGION   宗教  \n",
       "1960  http://www.woodlandschools.com/channel.php?cha...  NOT APPLICABLE  不適用  \n",
       "561                              http://www.hfcc.edu.hk     CATHOLICISM  天主教  \n",
       "\n",
       "[2 rows x 32 columns]"
      ]
     },
     "execution_count": 2,
     "metadata": {},
     "output_type": "execute_result"
    }
   ],
   "source": [
    "url = 'http://www.edb.gov.hk/attachment/en/student-parents/sch-info/sch-search/sch-location-info/SCH_LOC_EDB.xlsx'\n",
    "r = requests.get(url, allow_redirects=True)\n",
    "open('schools.xlsx', 'wb').write(r.content)\n",
    "\n",
    "df = pd.read_excel('schools.xlsx')\n",
    "df = df.drop(df.columns[[0]], axis=1)\n",
    "\n",
    "df.sample(2)"
   ]
  },
  {
   "cell_type": "markdown",
   "id": "d6b9e869",
   "metadata": {},
   "source": [
    "---\n",
    "## Find how many types of school is in HK\n",
    "To do it, we can use unique() to find out unique item in array."
   ]
  },
  {
   "cell_type": "code",
   "execution_count": 3,
   "id": "64ff3b02",
   "metadata": {},
   "outputs": [
    {
     "name": "stdout",
     "output_type": "stream",
     "text": [
      "Aided Primary Schools\n",
      "Aided Secondary Schools\n",
      "Aided Special Schools\n",
      "Caput Secondary Schools\n",
      "Direct Subsidy Scheme Primary Schools\n",
      "Direct Subsidy Scheme Secondary Schools\n",
      "English Schools Foundation (Primary)\n",
      "English Schools Foundation (Secondary)\n",
      "Government Primary Schools\n",
      "Government Secondary Schools\n",
      "International Schools (Primary)\n",
      "International Schools (Secondary)\n",
      "Kindergarten-cum-child Care Centres\n",
      "Kindergartens\n",
      "Private Primary Schools\n",
      "Private Secondary Schools (Day/Evening)\n"
     ]
    }
   ],
   "source": [
    "schoolTypes = df['ENGLISH CATEGORY'].unique()\n",
    "for type in schoolTypes:\n",
    "\tprint(type)"
   ]
  }
 ],
 "metadata": {
  "jupytext": {
   "formats": "md:myst",
   "text_representation": {
    "extension": ".md",
    "format_name": "myst"
   }
  },
  "kernelspec": {
   "display_name": "Python 3",
   "language": "python",
   "name": "python3"
  },
  "language_info": {
   "codemirror_mode": {
    "name": "ipython",
    "version": 3
   },
   "file_extension": ".py",
   "mimetype": "text/x-python",
   "name": "python",
   "nbconvert_exporter": "python",
   "pygments_lexer": "ipython3",
   "version": "3.9.7"
  },
  "source_map": [
   11,
   19,
   27,
   31,
   33,
   42,
   46
  ]
 },
 "nbformat": 4,
 "nbformat_minor": 5
}