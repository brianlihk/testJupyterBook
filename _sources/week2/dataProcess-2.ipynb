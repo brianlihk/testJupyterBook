{
 "cells": [
  {
   "cell_type": "markdown",
   "id": "0ddff8df",
   "metadata": {},
   "source": [
    "# Chart.js with Jupyter book - 1\n",
    "\n",
    "## Testing on javascript and ipywidget\n",
    "\n",
    "### Attempt 1"
   ]
  },
  {
   "cell_type": "code",
   "execution_count": 1,
   "id": "23196d89",
   "metadata": {},
   "outputs": [
    {
     "name": "stderr",
     "output_type": "stream",
     "text": [
      "/var/folders/6y/wj224kz14r7fmfq5j9h9y9pr0000gn/T/ipykernel_39978/587626250.py:2: DeprecationWarning: Importing display from IPython.core.display is deprecated since IPython 7.14, please import from IPython display\n",
      "  from IPython.core.display import display, HTML\n"
     ]
    },
    {
     "data": {
      "application/vnd.jupyter.widget-view+json": {
       "model_id": "71bb341a89f7471baea435df5e8c24e1",
       "version_major": 2,
       "version_minor": 0
      },
      "text/plain": [
       "HTML(value=\"<p id='tester-p'>Hello World!</p>\")"
      ]
     },
     "metadata": {},
     "output_type": "display_data"
    },
    {
     "data": {
      "text/html": [
       "\n",
       "<script>\n",
       "    count = 0;\n",
       "    widget = document.getElementById(\"tester-p\");\n",
       "    console.log(widget);\n",
       "    widget.innerHTML = count;\n",
       "</script>\n",
       "\n"
      ],
      "text/plain": [
       "<IPython.core.display.HTML object>"
      ]
     },
     "metadata": {},
     "output_type": "display_data"
    }
   ],
   "source": [
    "import ipywidgets as ui\n",
    "from IPython.core.display import display, HTML\n",
    "\n",
    "# Use ipywidgets HTML for the widget\n",
    "text = ui.HTML(\"<p id='tester-p'>Hello World!</p>\")   \n",
    "display(text)\n",
    "\n",
    "# Use IPython's HTML for the script\n",
    "my_script = HTML(\"\"\"\n",
    "    <script>\n",
    "        count = 0;\n",
    "        widget = document.getElementById(\"tester-p\");\n",
    "        console.log(widget);\n",
    "        widget.innerHTML = count;\n",
    "    </script>\n",
    "\n",
    "\"\"\")\n",
    "\n",
    "display(my_script)"
   ]
  },
  {
   "cell_type": "markdown",
   "id": "89bd1cc3",
   "metadata": {},
   "source": [
    "widget variable not found\n",
    "\n",
    "After inspected into source code, i found that the p element was defined after script, so it will not work.\n",
    "\n",
    "HTML is rendered before ui.HTML"
   ]
  }
 ],
 "metadata": {
  "jupytext": {
   "formats": "md:myst",
   "text_representation": {
    "extension": ".md",
    "format_name": "myst"
   }
  },
  "kernelspec": {
   "display_name": "Python 3",
   "language": "python",
   "name": "python3"
  },
  "language_info": {
   "codemirror_mode": {
    "name": "ipython",
    "version": 3
   },
   "file_extension": ".py",
   "mimetype": "text/x-python",
   "name": "python",
   "nbconvert_exporter": "python",
   "pygments_lexer": "ipython3",
   "version": "3.9.7"
  },
  "source_map": [
   11,
   17,
   37
  ],
  "widgets": {
   "application/vnd.jupyter.widget-state+json": {
    "state": {
     "3cfc73c7a9754e8299cbc7121b57272c": {
      "model_module": "@jupyter-widgets/base",
      "model_module_version": "1.2.0",
      "model_name": "LayoutModel",
      "state": {
       "_model_module": "@jupyter-widgets/base",
       "_model_module_version": "1.2.0",
       "_model_name": "LayoutModel",
       "_view_count": null,
       "_view_module": "@jupyter-widgets/base",
       "_view_module_version": "1.2.0",
       "_view_name": "LayoutView",
       "align_content": null,
       "align_items": null,
       "align_self": null,
       "border": null,
       "bottom": null,
       "display": null,
       "flex": null,
       "flex_flow": null,
       "grid_area": null,
       "grid_auto_columns": null,
       "grid_auto_flow": null,
       "grid_auto_rows": null,
       "grid_column": null,
       "grid_gap": null,
       "grid_row": null,
       "grid_template_areas": null,
       "grid_template_columns": null,
       "grid_template_rows": null,
       "height": null,
       "justify_content": null,
       "justify_items": null,
       "left": null,
       "margin": null,
       "max_height": null,
       "max_width": null,
       "min_height": null,
       "min_width": null,
       "object_fit": null,
       "object_position": null,
       "order": null,
       "overflow": null,
       "overflow_x": null,
       "overflow_y": null,
       "padding": null,
       "right": null,
       "top": null,
       "visibility": null,
       "width": null
      }
     },
     "71bb341a89f7471baea435df5e8c24e1": {
      "model_module": "@jupyter-widgets/controls",
      "model_module_version": "1.5.0",
      "model_name": "HTMLModel",
      "state": {
       "_dom_classes": [],
       "_model_module": "@jupyter-widgets/controls",
       "_model_module_version": "1.5.0",
       "_model_name": "HTMLModel",
       "_view_count": null,
       "_view_module": "@jupyter-widgets/controls",
       "_view_module_version": "1.5.0",
       "_view_name": "HTMLView",
       "description": "",
       "description_tooltip": null,
       "layout": "IPY_MODEL_3cfc73c7a9754e8299cbc7121b57272c",
       "placeholder": "​",
       "style": "IPY_MODEL_a08f94ab7c334c808dab8db4b5dcd845",
       "value": "<p id='tester-p'>Hello World!</p>"
      }
     },
     "a08f94ab7c334c808dab8db4b5dcd845": {
      "model_module": "@jupyter-widgets/controls",
      "model_module_version": "1.5.0",
      "model_name": "DescriptionStyleModel",
      "state": {
       "_model_module": "@jupyter-widgets/controls",
       "_model_module_version": "1.5.0",
       "_model_name": "DescriptionStyleModel",
       "_view_count": null,
       "_view_module": "@jupyter-widgets/base",
       "_view_module_version": "1.2.0",
       "_view_name": "StyleView",
       "description_width": ""
      }
     }
    },
    "version_major": 2,
    "version_minor": 0
   }
  }
 },
 "nbformat": 4,
 "nbformat_minor": 5
}