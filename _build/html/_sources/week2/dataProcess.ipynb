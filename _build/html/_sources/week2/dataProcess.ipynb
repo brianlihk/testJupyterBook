{
 "cells": [
  {
   "cell_type": "markdown",
   "id": "b504c069",
   "metadata": {},
   "source": [
    "# Data process and visualize using jupyter book\n",
    "\n",
    "## Introduction"
   ]
  },
  {
   "cell_type": "markdown",
   "id": "0239ba01",
   "metadata": {},
   "source": [
    "  Today i will follow insturction from [Interactive Data Analysis with FigureWidget ipywidgets in Python](https://plotly.com/python/figurewidget-app/) to develop a form with HKGov's database.\n",
    "\n",
    "---\n",
    "## Importing libararies"
   ]
  },
  {
   "cell_type": "code",
   "execution_count": 1,
   "id": "a317c093",
   "metadata": {},
   "outputs": [],
   "source": [
    "import datetime\n",
    "import numpy as np\n",
    "import pandas as pd\n",
    "import requests\n",
    "\n",
    "import plotly.graph_objects as go\n",
    "from ipywidgets import widgets"
   ]
  },
  {
   "cell_type": "markdown",
   "id": "95d54b21",
   "metadata": {},
   "source": [
    "---\n",
    "## Downloading material to process\n",
    "We will download school list data from HKGov: [School Location and Information](https://data.gov.hk/en-data/dataset/hk-edb-schinfo-school-location-and-information) which contains he names, addresses, coordinates and other relevant information of government, private, aided, Direct Subsidy Scheme, English Schools Foundation and international schools, kindergartens and kindergartens cum-child care centre (as at 28 December 2021). For precise, the file link is: [http://www.edb.gov.hk/attachment/en/student-parents/sch-info/sch-search/sch-location-info/SCH_LOC_EDB.xlsx](http://www.edb.gov.hk/attachment/en/student-parents/sch-info/sch-search/sch-location-info/SCH_LOC_EDB.xlsx)"
   ]
  },
  {
   "cell_type": "markdown",
   "id": "a33620de",
   "metadata": {},
   "source": [
    "We will use this file as our raw data and visualize it."
   ]
  },
  {
   "cell_type": "code",
   "execution_count": 2,
   "id": "a5978b54",
   "metadata": {},
   "outputs": [
    {
     "data": {
      "text/html": [
       "<div>\n",
       "<style scoped>\n",
       "    .dataframe tbody tr th:only-of-type {\n",
       "        vertical-align: middle;\n",
       "    }\n",
       "\n",
       "    .dataframe tbody tr th {\n",
       "        vertical-align: top;\n",
       "    }\n",
       "\n",
       "    .dataframe thead th {\n",
       "        text-align: right;\n",
       "    }\n",
       "</style>\n",
       "<table border=\"1\" class=\"dataframe\">\n",
       "  <thead>\n",
       "    <tr style=\"text-align: right;\">\n",
       "      <th></th>\n",
       "      <th>ENGLISH CATEGORY</th>\n",
       "      <th>中文類別</th>\n",
       "      <th>ENGLISH NAME</th>\n",
       "      <th>中文名稱</th>\n",
       "      <th>ENGLISH ADDRESS</th>\n",
       "      <th>中文地址</th>\n",
       "      <th>LONGITUDE</th>\n",
       "      <th>經度</th>\n",
       "      <th>LATITUDE</th>\n",
       "      <th>緯度</th>\n",
       "      <th>...</th>\n",
       "      <th>SCHOOL LEVEL</th>\n",
       "      <th>學校類型</th>\n",
       "      <th>TELEPHONE</th>\n",
       "      <th>聯絡電話</th>\n",
       "      <th>FAX NUMBER</th>\n",
       "      <th>傳真號碼</th>\n",
       "      <th>WEBSITE</th>\n",
       "      <th>網頁</th>\n",
       "      <th>RELIGION</th>\n",
       "      <th>宗教</th>\n",
       "    </tr>\n",
       "  </thead>\n",
       "  <tbody>\n",
       "    <tr>\n",
       "      <th>833</th>\n",
       "      <td>Aided Special Schools</td>\n",
       "      <td>資助特殊學校</td>\n",
       "      <td>SAHK JOCKEY CLUB ELAINE FIELD SCHOOL (SECONDAR...</td>\n",
       "      <td>香港耀能協會賽馬會田綺玲學校(中學部)</td>\n",
       "      <td>1 FU CHUNG LANE TAI PO NEW TERRITORIES</td>\n",
       "      <td>新界大埔富忠里1號</td>\n",
       "      <td>114.172881</td>\n",
       "      <td>114.172881</td>\n",
       "      <td>22.456989</td>\n",
       "      <td>22.456989</td>\n",
       "      <td>...</td>\n",
       "      <td>SECONDARY</td>\n",
       "      <td>中學</td>\n",
       "      <td>23489506</td>\n",
       "      <td>23489506</td>\n",
       "      <td>23402657</td>\n",
       "      <td>23402657</td>\n",
       "      <td>http://www.jcefs.edu.hk</td>\n",
       "      <td>http://www.jcefs.edu.hk</td>\n",
       "      <td>NOT APPLICABLE</td>\n",
       "      <td>不適用</td>\n",
       "    </tr>\n",
       "    <tr>\n",
       "      <th>3623</th>\n",
       "      <td>Private Secondary Schools (Day/Evening)</td>\n",
       "      <td>私立中學（日校/夜校）</td>\n",
       "      <td>INTERNATIONAL CHRISTIAN QUALITY MUSIC SECONDAR...</td>\n",
       "      <td>國際基督教優質音樂中學暨小學</td>\n",
       "      <td>182 PO KONG VILLAGE ROAD DIAMOND HILL KOWLOON ...</td>\n",
       "      <td>九龍鑽石山蒲崗村道１８２號（包括６樓）</td>\n",
       "      <td>114.205464</td>\n",
       "      <td>114.205464</td>\n",
       "      <td>22.345225</td>\n",
       "      <td>22.345225</td>\n",
       "      <td>...</td>\n",
       "      <td>SECONDARY</td>\n",
       "      <td>中學</td>\n",
       "      <td>27773828</td>\n",
       "      <td>27773828</td>\n",
       "      <td>27773899</td>\n",
       "      <td>27773899</td>\n",
       "      <td>http://www.icqm.edu.hk</td>\n",
       "      <td>http://www.icqm.edu.hk</td>\n",
       "      <td>PROTESTANTISM / CHRISTIANITY</td>\n",
       "      <td>基督教</td>\n",
       "    </tr>\n",
       "  </tbody>\n",
       "</table>\n",
       "<p>2 rows × 32 columns</p>\n",
       "</div>"
      ],
      "text/plain": [
       "                             ENGLISH CATEGORY         中文類別  \\\n",
       "833                     Aided Special Schools       資助特殊學校   \n",
       "3623  Private Secondary Schools (Day/Evening)  私立中學（日校/夜校）   \n",
       "\n",
       "                                           ENGLISH NAME                 中文名稱  \\\n",
       "833   SAHK JOCKEY CLUB ELAINE FIELD SCHOOL (SECONDAR...  香港耀能協會賽馬會田綺玲學校(中學部)   \n",
       "3623  INTERNATIONAL CHRISTIAN QUALITY MUSIC SECONDAR...       國際基督教優質音樂中學暨小學   \n",
       "\n",
       "                                        ENGLISH ADDRESS                 中文地址  \\\n",
       "833              1 FU CHUNG LANE TAI PO NEW TERRITORIES            新界大埔富忠里1號   \n",
       "3623  182 PO KONG VILLAGE ROAD DIAMOND HILL KOWLOON ...  九龍鑽石山蒲崗村道１８２號（包括６樓）   \n",
       "\n",
       "       LONGITUDE          經度   LATITUDE         緯度  ...  SCHOOL LEVEL  學校類型  \\\n",
       "833   114.172881  114.172881  22.456989  22.456989  ...     SECONDARY    中學   \n",
       "3623  114.205464  114.205464  22.345225  22.345225  ...     SECONDARY    中學   \n",
       "\n",
       "      TELEPHONE      聯絡電話 FAX NUMBER      傳真號碼                  WEBSITE  \\\n",
       "833    23489506  23489506   23402657  23402657  http://www.jcefs.edu.hk   \n",
       "3623   27773828  27773828   27773899  27773899   http://www.icqm.edu.hk   \n",
       "\n",
       "                           網頁                      RELIGION   宗教  \n",
       "833   http://www.jcefs.edu.hk                NOT APPLICABLE  不適用  \n",
       "3623   http://www.icqm.edu.hk  PROTESTANTISM / CHRISTIANITY  基督教  \n",
       "\n",
       "[2 rows x 32 columns]"
      ]
     },
     "execution_count": 2,
     "metadata": {},
     "output_type": "execute_result"
    }
   ],
   "source": [
    "url = 'http://www.edb.gov.hk/attachment/en/student-parents/sch-info/sch-search/sch-location-info/SCH_LOC_EDB.xlsx'\n",
    "r = requests.get(url, allow_redirects=True)\n",
    "open('schools.xlsx', 'wb').write(r.content)\n",
    "\n",
    "df = pd.read_excel('schools.xlsx')\n",
    "df = df.drop(df.columns[[0]], axis=1)\n",
    "\n",
    "df.sample(2)"
   ]
  },
  {
   "cell_type": "markdown",
   "id": "135a6572",
   "metadata": {},
   "source": [
    "---\n",
    "## Find how many types of school is in HK\n",
    "To do it, we can use unique() to find out unique item in array.\n",
    "### Category"
   ]
  },
  {
   "cell_type": "code",
   "execution_count": 3,
   "id": "f3ae5703",
   "metadata": {},
   "outputs": [
    {
     "data": {
      "text/html": [
       "<div>\n",
       "<style scoped>\n",
       "    .dataframe tbody tr th:only-of-type {\n",
       "        vertical-align: middle;\n",
       "    }\n",
       "\n",
       "    .dataframe tbody tr th {\n",
       "        vertical-align: top;\n",
       "    }\n",
       "\n",
       "    .dataframe thead th {\n",
       "        text-align: right;\n",
       "    }\n",
       "</style>\n",
       "<table border=\"1\" class=\"dataframe\">\n",
       "  <thead>\n",
       "    <tr style=\"text-align: right;\">\n",
       "      <th></th>\n",
       "      <th>類別</th>\n",
       "    </tr>\n",
       "  </thead>\n",
       "  <tbody>\n",
       "    <tr>\n",
       "      <th>0</th>\n",
       "      <td>Aided Primary Schools</td>\n",
       "    </tr>\n",
       "    <tr>\n",
       "      <th>1</th>\n",
       "      <td>Aided Secondary Schools</td>\n",
       "    </tr>\n",
       "    <tr>\n",
       "      <th>2</th>\n",
       "      <td>Aided Special Schools</td>\n",
       "    </tr>\n",
       "    <tr>\n",
       "      <th>3</th>\n",
       "      <td>Caput Secondary Schools</td>\n",
       "    </tr>\n",
       "    <tr>\n",
       "      <th>4</th>\n",
       "      <td>Direct Subsidy Scheme Primary Schools</td>\n",
       "    </tr>\n",
       "    <tr>\n",
       "      <th>5</th>\n",
       "      <td>Direct Subsidy Scheme Secondary Schools</td>\n",
       "    </tr>\n",
       "    <tr>\n",
       "      <th>6</th>\n",
       "      <td>English Schools Foundation (Primary)</td>\n",
       "    </tr>\n",
       "    <tr>\n",
       "      <th>7</th>\n",
       "      <td>English Schools Foundation (Secondary)</td>\n",
       "    </tr>\n",
       "    <tr>\n",
       "      <th>8</th>\n",
       "      <td>Government Primary Schools</td>\n",
       "    </tr>\n",
       "    <tr>\n",
       "      <th>9</th>\n",
       "      <td>Government Secondary Schools</td>\n",
       "    </tr>\n",
       "    <tr>\n",
       "      <th>10</th>\n",
       "      <td>International Schools (Primary)</td>\n",
       "    </tr>\n",
       "    <tr>\n",
       "      <th>11</th>\n",
       "      <td>International Schools (Secondary)</td>\n",
       "    </tr>\n",
       "    <tr>\n",
       "      <th>12</th>\n",
       "      <td>Kindergarten-cum-child Care Centres</td>\n",
       "    </tr>\n",
       "    <tr>\n",
       "      <th>13</th>\n",
       "      <td>Kindergartens</td>\n",
       "    </tr>\n",
       "    <tr>\n",
       "      <th>14</th>\n",
       "      <td>Private Primary Schools</td>\n",
       "    </tr>\n",
       "    <tr>\n",
       "      <th>15</th>\n",
       "      <td>Private Secondary Schools (Day/Evening)</td>\n",
       "    </tr>\n",
       "  </tbody>\n",
       "</table>\n",
       "</div>"
      ],
      "text/plain": [
       "                                         類別\n",
       "0                     Aided Primary Schools\n",
       "1                   Aided Secondary Schools\n",
       "2                     Aided Special Schools\n",
       "3                   Caput Secondary Schools\n",
       "4     Direct Subsidy Scheme Primary Schools\n",
       "5   Direct Subsidy Scheme Secondary Schools\n",
       "6      English Schools Foundation (Primary)\n",
       "7    English Schools Foundation (Secondary)\n",
       "8                Government Primary Schools\n",
       "9              Government Secondary Schools\n",
       "10          International Schools (Primary)\n",
       "11        International Schools (Secondary)\n",
       "12      Kindergarten-cum-child Care Centres\n",
       "13                            Kindergartens\n",
       "14                  Private Primary Schools\n",
       "15  Private Secondary Schools (Day/Evening)"
      ]
     },
     "metadata": {},
     "output_type": "display_data"
    }
   ],
   "source": [
    "schoolTypes = []\n",
    "chiSchoolTypes = df['ENGLISH CATEGORY'].unique()\n",
    "for i in range(len(chiSchoolTypes)):\n",
    "\tschoolTypes.append(chiSchoolTypes[i])\n",
    "\n",
    "tempTable = pd.DataFrame(schoolTypes)\n",
    "tempTable.columns=['類別']\n",
    "display(tempTable)"
   ]
  },
  {
   "cell_type": "markdown",
   "id": "81fae7c7",
   "metadata": {},
   "source": [
    "### Student Gender"
   ]
  },
  {
   "cell_type": "code",
   "execution_count": 4,
   "id": "08e2c83b",
   "metadata": {},
   "outputs": [
    {
     "data": {
      "text/html": [
       "<div>\n",
       "<style scoped>\n",
       "    .dataframe tbody tr th:only-of-type {\n",
       "        vertical-align: middle;\n",
       "    }\n",
       "\n",
       "    .dataframe tbody tr th {\n",
       "        vertical-align: top;\n",
       "    }\n",
       "\n",
       "    .dataframe thead th {\n",
       "        text-align: right;\n",
       "    }\n",
       "</style>\n",
       "<table border=\"1\" class=\"dataframe\">\n",
       "  <thead>\n",
       "    <tr style=\"text-align: right;\">\n",
       "      <th></th>\n",
       "      <th>就讀學生性別</th>\n",
       "    </tr>\n",
       "  </thead>\n",
       "  <tbody>\n",
       "    <tr>\n",
       "      <th>0</th>\n",
       "      <td>GIRLS</td>\n",
       "    </tr>\n",
       "    <tr>\n",
       "      <th>1</th>\n",
       "      <td>CO-ED</td>\n",
       "    </tr>\n",
       "    <tr>\n",
       "      <th>2</th>\n",
       "      <td>BOYS</td>\n",
       "    </tr>\n",
       "  </tbody>\n",
       "</table>\n",
       "</div>"
      ],
      "text/plain": [
       "  就讀學生性別\n",
       "0  GIRLS\n",
       "1  CO-ED\n",
       "2   BOYS"
      ]
     },
     "metadata": {},
     "output_type": "display_data"
    }
   ],
   "source": [
    "genders = []\n",
    "chiGenders = df['STUDENTS GENDER'].unique()\n",
    "for i in range(len(chiGenders)):\n",
    "\tgenders.append(chiGenders[i])\n",
    "\t\n",
    "tempTable = pd.DataFrame(genders)\n",
    "tempTable.columns=['就讀學生性別']\n",
    "display(tempTable)"
   ]
  },
  {
   "cell_type": "markdown",
   "id": "00a97328",
   "metadata": {},
   "source": [
    "### Religion"
   ]
  },
  {
   "cell_type": "code",
   "execution_count": 5,
   "id": "0b8d0396",
   "metadata": {},
   "outputs": [
    {
     "data": {
      "text/html": [
       "<div>\n",
       "<style scoped>\n",
       "    .dataframe tbody tr th:only-of-type {\n",
       "        vertical-align: middle;\n",
       "    }\n",
       "\n",
       "    .dataframe tbody tr th {\n",
       "        vertical-align: top;\n",
       "    }\n",
       "\n",
       "    .dataframe thead th {\n",
       "        text-align: right;\n",
       "    }\n",
       "</style>\n",
       "<table border=\"1\" class=\"dataframe\">\n",
       "  <thead>\n",
       "    <tr style=\"text-align: right;\">\n",
       "      <th></th>\n",
       "      <th>宗教</th>\n",
       "    </tr>\n",
       "  </thead>\n",
       "  <tbody>\n",
       "    <tr>\n",
       "      <th>0</th>\n",
       "      <td>CATHOLICISM</td>\n",
       "    </tr>\n",
       "    <tr>\n",
       "      <th>1</th>\n",
       "      <td>PROTESTANTISM / CHRISTIANITY</td>\n",
       "    </tr>\n",
       "    <tr>\n",
       "      <th>2</th>\n",
       "      <td>NOT APPLICABLE</td>\n",
       "    </tr>\n",
       "    <tr>\n",
       "      <th>3</th>\n",
       "      <td>N.A.</td>\n",
       "    </tr>\n",
       "    <tr>\n",
       "      <th>4</th>\n",
       "      <td>BUDDHISM</td>\n",
       "    </tr>\n",
       "    <tr>\n",
       "      <th>5</th>\n",
       "      <td>TAOISM</td>\n",
       "    </tr>\n",
       "    <tr>\n",
       "      <th>6</th>\n",
       "      <td>CONFUCIANISM,BUDDHISM &amp; TAOISM</td>\n",
       "    </tr>\n",
       "    <tr>\n",
       "      <th>7</th>\n",
       "      <td>ISLAM</td>\n",
       "    </tr>\n",
       "    <tr>\n",
       "      <th>8</th>\n",
       "      <td>NaN</td>\n",
       "    </tr>\n",
       "    <tr>\n",
       "      <th>9</th>\n",
       "      <td>CONFUCIANISM</td>\n",
       "    </tr>\n",
       "    <tr>\n",
       "      <th>10</th>\n",
       "      <td>OTHERS</td>\n",
       "    </tr>\n",
       "    <tr>\n",
       "      <th>11</th>\n",
       "      <td>天主教</td>\n",
       "    </tr>\n",
       "    <tr>\n",
       "      <th>12</th>\n",
       "      <td>SIKH</td>\n",
       "    </tr>\n",
       "  </tbody>\n",
       "</table>\n",
       "</div>"
      ],
      "text/plain": [
       "                                宗教\n",
       "0                      CATHOLICISM\n",
       "1     PROTESTANTISM / CHRISTIANITY\n",
       "2                   NOT APPLICABLE\n",
       "3                             N.A.\n",
       "4                         BUDDHISM\n",
       "5                           TAOISM\n",
       "6   CONFUCIANISM,BUDDHISM & TAOISM\n",
       "7                            ISLAM\n",
       "8                              NaN\n",
       "9                     CONFUCIANISM\n",
       "10                          OTHERS\n",
       "11                             天主教\n",
       "12                            SIKH"
      ]
     },
     "metadata": {},
     "output_type": "display_data"
    }
   ],
   "source": [
    "religions = []\n",
    "chiReligion = df['RELIGION'].unique()\n",
    "for i in range(len(chiReligion)):\n",
    "\treligions.append(chiReligion[i])\n",
    "\t\n",
    "tempTable = pd.DataFrame(religions)\n",
    "tempTable.columns=['宗教']\n",
    "display(tempTable)"
   ]
  },
  {
   "cell_type": "markdown",
   "id": "dbdb1902",
   "metadata": {},
   "source": [
    "---\n",
    "\n",
    "## Print out value for each data in tab"
   ]
  },
  {
   "cell_type": "code",
   "execution_count": 6,
   "id": "67ec32c5",
   "metadata": {},
   "outputs": [
    {
     "data": {
      "application/vnd.jupyter.widget-view+json": {
       "model_id": "64f4f3a81b544db79cf5aeaf7e431694",
       "version_major": 2,
       "version_minor": 0
      },
      "text/plain": [
       "Tab(children=(Output(), Output()))"
      ]
     },
     "metadata": {},
     "output_type": "display_data"
    },
    {
     "data": {
      "image/png": "[encoded data removed]",
      "text/plain": [
       "<Figure size 432x288 with 1 Axes>"
      ]
     },
     "metadata": {
      "filenames": {
       "image/png": "/Users/brianli/Desktop/VTC material/IA-IBSP/JupyterBook/testJupyterBook/_build/jupyter_execute/week2/dataProcess_13_1.png"
      },
      "needs_background": "light"
     },
     "output_type": "display_data"
    },
    {
     "data": {
      "image/png": "[encoded data removed]",
      "text/plain": [
       "<Figure size 432x288 with 1 Axes>"
      ]
     },
     "metadata": {
      "filenames": {
       "image/png": "/Users/brianli/Desktop/VTC material/IA-IBSP/JupyterBook/testJupyterBook/_build/jupyter_execute/week2/dataProcess_13_2.png"
      },
      "needs_background": "light"
     },
     "output_type": "display_data"
    }
   ],
   "source": [
    "def setup_ui(df):\n",
    "    \n",
    "    out = widgets.Output()\n",
    "    with out:\n",
    "        display(df)\n",
    "        display(df.plot.barh(x='tag'))\n",
    "    return out\n",
    "\n",
    "data = []\n",
    "row_count = len(df.index)\n",
    "for i in range(row_count):\n",
    "  data.append([])\n",
    "  for item in df.loc[i]:\n",
    "    data[i].append(item)\n",
    "ax = []\n",
    "ay = []\n",
    "for schoolType in schoolTypes:\n",
    "  ax.append(schoolType)\n",
    "  ay.append(0)\n",
    "  for row in data:\n",
    "    if(row[0] == schoolType):\n",
    "      ay[len(ay)-1] += 1\n",
    "schoolTypeDF = pd.DataFrame({'tag':ax, 'count':ay})\n",
    "\n",
    "ax = []\n",
    "ay = []\n",
    "for gender in genders:\n",
    "  ax.append(gender)\n",
    "  ay.append(0)\n",
    "  for row in data:\n",
    "    if(row[14] == gender):\n",
    "      ay[len(ay)-1] += 1\n",
    "genderDF = pd.DataFrame({'tag':ax, 'count':ay})\n",
    "\n",
    "tab_contents = ['School Type', 'Student gender']\n",
    "children = [setup_ui(schoolTypeDF), setup_ui(genderDF)]\n",
    "tab = widgets.Tab()\n",
    "tab.children = children\n",
    "tab.titles = tab_contents\n",
    "tab"
   ]
  }
 ],
 "metadata": {
  "jupytext": {
   "formats": "md:myst",
   "text_representation": {
    "extension": ".md",
    "format_name": "myst"
   }
  },
  "kernelspec": {
   "display_name": "Python 3",
   "language": "python",
   "name": "python3"
  },
  "language_info": {
   "codemirror_mode": {
    "name": "ipython",
    "version": 3
   },
   "file_extension": ".py",
   "mimetype": "text/x-python",
   "name": "python",
   "nbconvert_exporter": "python",
   "pygments_lexer": "ipython3",
   "version": "3.9.7"
  },
  "source_map": [
   11,
   17,
   22,
   30,
   34,
   36,
   45,
   50,
   60,
   62,
   72,
   74,
   83,
   87
  ],
  "widgets": {
   "application/vnd.jupyter.widget-state+json": {
    "state": {
     "2774fa91fbc34d979aaa365f5b4043bb": {
      "model_module": "@jupyter-widgets/base",
      "model_module_version": "1.2.0",
      "model_name": "LayoutModel",
      "state": {
       "_model_module": "@jupyter-widgets/base",
       "_model_module_version": "1.2.0",
       "_model_name": "LayoutModel",
       "_view_count": null,
       "_view_module": "@jupyter-widgets/base",
       "_view_module_version": "1.2.0",
       "_view_name": "LayoutView",
       "align_content": null,
       "align_items": null,
       "align_self": null,
       "border": null,
       "bottom": null,
       "display": null,
       "flex": null,
       "flex_flow": null,
       "grid_area": null,
       "grid_auto_columns": null,
       "grid_auto_flow": null,
       "grid_auto_rows": null,
       "grid_column": null,
       "grid_gap": null,
       "grid_row": null,
       "grid_template_areas": null,
       "grid_template_columns": null,
       "grid_template_rows": null,
       "height": null,
       "justify_content": null,
       "justify_items": null,
       "left": null,
       "margin": null,
       "max_height": null,
       "max_width": null,
       "min_height": null,
       "min_width": null,
       "object_fit": null,
       "object_position": null,
       "order": null,
       "overflow": null,
       "overflow_x": null,
       "overflow_y": null,
       "padding": null,
       "right": null,
       "top": null,
       "visibility": null,
       "width": null
      }
     },
     "31c48bbf189e413b932b40c8e3341d08": {
      "model_module": "@jupyter-widgets/base",
      "model_module_version": "1.2.0",
      "model_name": "LayoutModel",
      "state": {
       "_model_module": "@jupyter-widgets/base",
       "_model_module_version": "1.2.0",
       "_model_name": "LayoutModel",
       "_view_count": null,
       "_view_module": "@jupyter-widgets/base",
       "_view_module_version": "1.2.0",
       "_view_name": "LayoutView",
       "align_content": null,
       "align_items": null,
       "align_self": null,
       "border": null,
       "bottom": null,
       "display": null,
       "flex": null,
       "flex_flow": null,
       "grid_area": null,
       "grid_auto_columns": null,
       "grid_auto_flow": null,
       "grid_auto_rows": null,
       "grid_column": null,
       "grid_gap": null,
       "grid_row": null,
       "grid_template_areas": null,
       "grid_template_columns": null,
       "grid_template_rows": null,
       "height": null,
       "justify_content": null,
       "justify_items": null,
       "left": null,
       "margin": null,
       "max_height": null,
       "max_width": null,
       "min_height": null,
       "min_width": null,
       "object_fit": null,
       "object_position": null,
       "order": null,
       "overflow": null,
       "overflow_x": null,
       "overflow_y": null,
       "padding": null,
       "right": null,
       "top": null,
       "visibility": null,
       "width": null
      }
     },
     "5b51bd07baa3499d94d01f645ca64123": {
      "model_module": "@jupyter-widgets/output",
      "model_module_version": "1.0.0",
      "model_name": "OutputModel",
      "state": {
       "_dom_classes": [],
       "_model_module": "@jupyter-widgets/output",
       "_model_module_version": "1.0.0",
       "_model_name": "OutputModel",
       "_view_count": null,
       "_view_module": "@jupyter-widgets/output",
       "_view_module_version": "1.0.0",
       "_view_name": "OutputView",
       "layout": "IPY_MODEL_2774fa91fbc34d979aaa365f5b4043bb",
       "msg_id": "",
       "outputs": [
        {
         "data": {
          "text/html": "<div>\n<style scoped>\n    .dataframe tbody tr th:only-of-type {\n        vertical-align: middle;\n    }\n\n    .dataframe tbody tr th {\n        vertical-align: top;\n    }\n\n    .dataframe thead th {\n        text-align: right;\n    }\n</style>\n<table border=\"1\" class=\"dataframe\">\n  <thead>\n    <tr style=\"text-align: right;\">\n      <th></th>\n      <th>tag</th>\n      <th>count</th>\n    </tr>\n  </thead>\n  <tbody>\n    <tr>\n      <th>0</th>\n      <td>GIRLS</td>\n      <td>74</td>\n    </tr>\n    <tr>\n      <th>1</th>\n      <td>CO-ED</td>\n      <td>3520</td>\n    </tr>\n    <tr>\n      <th>2</th>\n      <td>BOYS</td>\n      <td>47</td>\n    </tr>\n  </tbody>\n</table>\n</div>",
          "text/plain": "     tag  count\n0  GIRLS     74\n1  CO-ED   3520\n2   BOYS     47"
         },
         "metadata": {},
         "output_type": "display_data"
        },
        {
         "data": {
          "text/plain": "<AxesSubplot:ylabel='tag'>"
         },
         "metadata": {},
         "output_type": "display_data"
        }
       ]
      }
     },
     "64f4f3a81b544db79cf5aeaf7e431694": {
      "model_module": "@jupyter-widgets/controls",
      "model_module_version": "1.5.0",
      "model_name": "TabModel",
      "state": {
       "_dom_classes": [],
       "_model_module": "@jupyter-widgets/controls",
       "_model_module_version": "1.5.0",
       "_model_name": "TabModel",
       "_titles": {},
       "_view_count": null,
       "_view_module": "@jupyter-widgets/controls",
       "_view_module_version": "1.5.0",
       "_view_name": "TabView",
       "box_style": "",
       "children": [
        "IPY_MODEL_e0869332dcde4f08948f49206b86b1bc",
        "IPY_MODEL_5b51bd07baa3499d94d01f645ca64123"
       ],
       "layout": "IPY_MODEL_a22bf94a91544066ae8fc8a6224047fd",
       "selected_index": 0
      }
     },
     "a22bf94a91544066ae8fc8a6224047fd": {
      "model_module": "@jupyter-widgets/base",
      "model_module_version": "1.2.0",
      "model_name": "LayoutModel",
      "state": {
       "_model_module": "@jupyter-widgets/base",
       "_model_module_version": "1.2.0",
       "_model_name": "LayoutModel",
       "_view_count": null,
       "_view_module": "@jupyter-widgets/base",
       "_view_module_version": "1.2.0",
       "_view_name": "LayoutView",
       "align_content": null,
       "align_items": null,
       "align_self": null,
       "border": null,
       "bottom": null,
       "display": null,
       "flex": null,
       "flex_flow": null,
       "grid_area": null,
       "grid_auto_columns": null,
       "grid_auto_flow": null,
       "grid_auto_rows": null,
       "grid_column": null,
       "grid_gap": null,
       "grid_row": null,
       "grid_template_areas": null,
       "grid_template_columns": null,
       "grid_template_rows": null,
       "height": null,
       "justify_content": null,
       "justify_items": null,
       "left": null,
       "margin": null,
       "max_height": null,
       "max_width": null,
       "min_height": null,
       "min_width": null,
       "object_fit": null,
       "object_position": null,
       "order": null,
       "overflow": null,
       "overflow_x": null,
       "overflow_y": null,
       "padding": null,
       "right": null,
       "top": null,
       "visibility": null,
       "width": null
      }
     },
     "e0869332dcde4f08948f49206b86b1bc": {
      "model_module": "@jupyter-widgets/output",
      "model_module_version": "1.0.0",
      "model_name": "OutputModel",
      "state": {
       "_dom_classes": [],
       "_model_module": "@jupyter-widgets/output",
       "_model_module_version": "1.0.0",
       "_model_name": "OutputModel",
       "_view_count": null,
       "_view_module": "@jupyter-widgets/output",
       "_view_module_version": "1.0.0",
       "_view_name": "OutputView",
       "layout": "IPY_MODEL_31c48bbf189e413b932b40c8e3341d08",
       "msg_id": "",
       "outputs": [
        {
         "data": {
          "text/html": "<div>\n<style scoped>\n    .dataframe tbody tr th:only-of-type {\n        vertical-align: middle;\n    }\n\n    .dataframe tbody tr th {\n        vertical-align: top;\n    }\n\n    .dataframe thead th {\n        text-align: right;\n    }\n</style>\n<table border=\"1\" class=\"dataframe\">\n  <thead>\n    <tr style=\"text-align: right;\">\n      <th></th>\n      <th>tag</th>\n      <th>count</th>\n    </tr>\n  </thead>\n  <tbody>\n    <tr>\n      <th>0</th>\n      <td>Aided Primary Schools</td>\n      <td>430</td>\n    </tr>\n    <tr>\n      <th>1</th>\n      <td>Aided Secondary Schools</td>\n      <td>366</td>\n    </tr>\n    <tr>\n      <th>2</th>\n      <td>Aided Special Schools</td>\n      <td>156</td>\n    </tr>\n    <tr>\n      <th>3</th>\n      <td>Caput Secondary Schools</td>\n      <td>2</td>\n    </tr>\n    <tr>\n      <th>4</th>\n      <td>Direct Subsidy Scheme Primary Schools</td>\n      <td>23</td>\n    </tr>\n    <tr>\n      <th>5</th>\n      <td>Direct Subsidy Scheme Secondary Schools</td>\n      <td>60</td>\n    </tr>\n    <tr>\n      <th>6</th>\n      <td>English Schools Foundation (Primary)</td>\n      <td>11</td>\n    </tr>\n    <tr>\n      <th>7</th>\n      <td>English Schools Foundation (Secondary)</td>\n      <td>8</td>\n    </tr>\n    <tr>\n      <th>8</th>\n      <td>Government Primary Schools</td>\n      <td>34</td>\n    </tr>\n    <tr>\n      <th>9</th>\n      <td>Government Secondary Schools</td>\n      <td>31</td>\n    </tr>\n    <tr>\n      <th>10</th>\n      <td>International Schools (Primary)</td>\n      <td>43</td>\n    </tr>\n    <tr>\n      <th>11</th>\n      <td>International Schools (Secondary)</td>\n      <td>26</td>\n    </tr>\n    <tr>\n      <th>12</th>\n      <td>Kindergarten-cum-child Care Centres</td>\n      <td>997</td>\n    </tr>\n    <tr>\n      <th>13</th>\n      <td>Kindergartens</td>\n      <td>1337</td>\n    </tr>\n    <tr>\n      <th>14</th>\n      <td>Private Primary Schools</td>\n      <td>74</td>\n    </tr>\n    <tr>\n      <th>15</th>\n      <td>Private Secondary Schools (Day/Evening)</td>\n      <td>43</td>\n    </tr>\n  </tbody>\n</table>\n</div>",
          "text/plain": "                                        tag  count\n0                     Aided Primary Schools    430\n1                   Aided Secondary Schools    366\n2                     Aided Special Schools    156\n3                   Caput Secondary Schools      2\n4     Direct Subsidy Scheme Primary Schools     23\n5   Direct Subsidy Scheme Secondary Schools     60\n6      English Schools Foundation (Primary)     11\n7    English Schools Foundation (Secondary)      8\n8                Government Primary Schools     34\n9              Government Secondary Schools     31\n10          International Schools (Primary)     43\n11        International Schools (Secondary)     26\n12      Kindergarten-cum-child Care Centres    997\n13                            Kindergartens   1337\n14                  Private Primary Schools     74\n15  Private Secondary Schools (Day/Evening)     43"
         },
         "metadata": {},
         "output_type": "display_data"
        },
        {
         "data": {
          "text/plain": "<AxesSubplot:ylabel='tag'>"
         },
         "metadata": {},
         "output_type": "display_data"
        }
       ]
      }
     }
    },
    "version_major": 2,
    "version_minor": 0
   }
  }
 },
 "nbformat": 4,
 "nbformat_minor": 5
}