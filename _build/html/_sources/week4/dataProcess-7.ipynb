{
 "cells": [
  {
   "cell_type": "markdown",
   "id": "a84b1481",
   "metadata": {},
   "source": [
    "# Chart.js with Jupyter book - 6\n",
    "\n",
    "## Test with random data generation\n",
    "\n",
    "<div>\n",
    "  <canvas id=\"addableChart\"></canvas>\n",
    "</div>\n",
    "<div class=\"slidecontainer\">\n",
    "  Max length (30-100): <input type=\"range\" min=\"30\" max=\"100\" value=\"30\" class=\"slider\" id=\"input\">\n",
    "</div>\n",
    "\n",
    "<script>\n",
    "  function addDigit(){\n",
    "    var inputValue = parseInt(document.getElementById('input').value);\n",
    "    while(myChart.data.datasets[0].data.length+1 > inputValue){\n",
    "      myChart.data.datasets[0].data.shift();\n",
    "      myChart.data.labels.shift();\n",
    "      console.log(myChart.data.labels);\n",
    "    }\n",
    "    myChart.data.datasets[0].data.push(getRandomInt(0,50));\n",
    "    myChart.data.labels.push(myChart.data.labels.length+1);\n",
    "    myChart.update();\n",
    "  }\n",
    "  function getRandomInt(min, max) {\n",
    "    min = Math.ceil(min);\n",
    "    max = Math.floor(max);\n",
    "    return Math.floor(Math.random() * (max - min) + min);\n",
    "  }\n",
    "\n",
    "\n",
    "  const labels = [\n",
    "    1,2,3,4,5,6,7\n",
    "  ];\n",
    "  const data = {\n",
    "    labels: labels,\n",
    "    datasets: [{\n",
    "      label: 'Test dataset',\n",
    "      backgroundColor: 'rgb(255, 99, 132)',\n",
    "      borderColor: 'rgb(255, 99, 132)',\n",
    "      data: [0, 10, 5, 2, 20, 30, 45],\n",
    "    }],\n",
    "    options: {\n",
    "      animation: {\n",
    "        duration: 0\n",
    "      }\n",
    "    }\n",
    "  };\n",
    "\n",
    "  const config = {\n",
    "    type: 'line',\n",
    "    data: data,\n",
    "    options: {}\n",
    "  };\n",
    "  const myChart = new Chart(\n",
    "    document.getElementById('addableChart'),\n",
    "    config\n",
    "  );\n",
    "\n",
    "  setInterval(addDigit, 100);\n",
    "</script>"
   ]
  }
 ],
 "metadata": {
  "jupytext": {
   "formats": "md:myst",
   "text_representation": {
    "extension": ".md",
    "format_name": "myst"
   }
  },
  "kernelspec": {
   "display_name": "Python 3",
   "language": "python",
   "name": "python3"
  },
  "language_info": {
   "codemirror_mode": {
    "name": "ipython",
    "version": 3
   },
   "file_extension": ".py",
   "mimetype": "text/x-python",
   "name": "python",
   "nbconvert_exporter": "python",
   "pygments_lexer": "ipython3",
   "version": "3.9.7"
  },
  "source_map": [
   11
  ]
 },
 "nbformat": 4,
 "nbformat_minor": 5
}