{
 "cells": [
  {
   "cell_type": "markdown",
   "id": "ed77f8d1",
   "metadata": {},
   "source": [
    "# Learning on ipywidgets (19 Jan 2022)\n",
    "\n",
    "## Slider\n",
    "### import packages\n",
    "We will import ipywidgets as widgets"
   ]
  },
  {
   "cell_type": "code",
   "execution_count": null,
   "id": "7ddc7497",
   "metadata": {},
   "outputs": [],
   "source": [
    "import ipywidgets as widgets"
   ]
  },
  {
   "cell_type": "markdown",
   "id": "92df9526",
   "metadata": {},
   "source": [
    "---\n",
    "### initalize the slider\n",
    "We can initialize a Intslider with widgets"
   ]
  },
  {
   "cell_type": "code",
   "execution_count": null,
   "id": "c76f89e4",
   "metadata": {},
   "outputs": [],
   "source": [
    "slider = widgets.IntSlider()"
   ]
  },
  {
   "cell_type": "markdown",
   "id": "4601543a",
   "metadata": {},
   "source": [
    "---\n",
    "### Display the widget\n",
    "We can display the slider with Display package"
   ]
  },
  {
   "cell_type": "code",
   "execution_count": null,
   "id": "043b0195",
   "metadata": {},
   "outputs": [],
   "source": [
    "from IPython.display import display\n",
    "display(slider)"
   ]
  },
  {
   "cell_type": "markdown",
   "id": "301a71f8",
   "metadata": {},
   "source": [
    "---\n",
    "### Close the widget\n",
    "We can close it with widget.close()"
   ]
  },
  {
   "cell_type": "code",
   "execution_count": null,
   "id": "56dc0f2a",
   "metadata": {},
   "outputs": [],
   "source": [
    "#slider.close()"
   ]
  },
  {
   "cell_type": "markdown",
   "id": "a4786bcb",
   "metadata": {},
   "source": [
    "- But once we closed it, some bug apperas and it won't show up the widget but text instead\n",
    "---\n",
    "### Changing the value\n",
    "We can get/set the value of the widget"
   ]
  },
  {
   "cell_type": "code",
   "execution_count": null,
   "id": "0884bb05",
   "metadata": {},
   "outputs": [],
   "source": [
    "slider.value = 50\n",
    "display(slider)"
   ]
  },
  {
   "cell_type": "markdown",
   "id": "0c703f81",
   "metadata": {},
   "source": [
    "---\n",
    "### jslink\n",
    "we can link the value of different widget by jslink"
   ]
  },
  {
   "cell_type": "code",
   "execution_count": null,
   "id": "2181dd9c",
   "metadata": {},
   "outputs": [],
   "source": [
    "a = widgets.FloatText()\n",
    "b = widgets.FloatSlider()\n",
    "display(a,b)\n",
    "\n",
    "mylink = widgets.jslink((a, 'value'), (b, 'value'))"
   ]
  },
  {
   "cell_type": "markdown",
   "id": "3f9efcbb",
   "metadata": {},
   "source": [
    "---\n",
    "## Types of Widgets\n",
    "### Numeric widgets\n",
    "There are so many types of numeric widgets we can use, including:\n",
    "- IntSlider\n",
    "- FloatSlider\n",
    "- FloatLogSlider\n",
    "- IntRangeSlider\n",
    "- FloatRangeSlider\n",
    "- IntProgress\n",
    "- FloatProgress\n",
    "- BoundedIntText\n",
    "- BoundedFloatText\n",
    "- IntText\n",
    "- FloatText\n",
    "\tReferece: [Jupyter Widgets/Widget List/Numeric widgets](https://ipywidgets.readthedocs.io/en/latest/examples/Widget%20List.html#Numeric-widgets)\n",
    "---\n",
    "### Boolean widgets\n",
    "- ToggleButton\n",
    "- Checkbox\n",
    "- Valid\n",
    "\tReferece: [Jupyter Widgets/Widget List/Boolean widgets](https://ipywidgets.readthedocs.io/en/latest/examples/Widget%20List.html#Boolean-widgets)\n",
    "---\n",
    "### Selection widgets\n",
    "- Dropdown\n",
    "- RadioButtons\n",
    "- Select\n",
    "- SelectionSlider\n",
    "- SelectionRangeSlider\n",
    "- ToggleButtons\n",
    "- SelectMultiple\n",
    "\tReferece: [Jupyter Widgets/Widget List/Selection widgets](https://ipywidgets.readthedocs.io/en/latest/examples/Widget%20List.html#Selection-widgets)\n",
    "---\n",
    "### String widgets\n",
    "- Text\n",
    "- Textarea\n",
    "- Password\n",
    "\tReferece: [Jupyter Widgets/Widget List/String widgets](https://ipywidgets.readthedocs.io/en/latest/examples/Widget%20List.html#String-widgets)\n",
    "---\n",
    "## How to combine widgets into one\n",
    "If we want to combine a widget, we will need to use a widget called HBox.\n",
    "For example, if we want to combine a label and a slider bar together, we can do:"
   ]
  },
  {
   "cell_type": "code",
   "execution_count": null,
   "id": "fdcb9aa7",
   "metadata": {},
   "outputs": [],
   "source": [
    "widgets.HBox([widgets.Label(value=\"The $m$ in $E=mc^2$:\"), widgets.FloatSlider()])"
   ]
  },
  {
   "cell_type": "markdown",
   "id": "efe39815",
   "metadata": {},
   "source": [
    "* And i assume the H in HBox stands for horizontal.\n",
    "---\n",
    "## Print out image with python\n",
    "We can use Image widget to print out the file in specified path. For example:"
   ]
  },
  {
   "cell_type": "code",
   "execution_count": null,
   "id": "62f29152",
   "metadata": {},
   "outputs": [],
   "source": [
    "file = open(\"../rick.jpg\", \"rb\")\n",
    "image = file.read()\n",
    "widgets.Image(\n",
    "    value=image,\n",
    "    format='jpg',\n",
    ")"
   ]
  },
  {
   "cell_type": "markdown",
   "id": "02d70113",
   "metadata": {},
   "source": [
    "* And please note that the root directory is the base of the file, so if you want to access file under you book's root folder, you will need to use relative path to access it.\n",
    "\n",
    "---\n",
    "```{warning}\n",
    "Sample beyond this warning is unstable, i am still looking for a way to do front end execute\n",
    "```\n",
    "---\n",
    "## Output"
   ]
  },
  {
   "cell_type": "code",
   "execution_count": null,
   "id": "4dbc2788",
   "metadata": {},
   "outputs": [],
   "source": [
    "import ipywidgets as widgets\n",
    "val = 2\n",
    "inp = widgets.IntSlider(value = val, min = 1, max = 10, \n",
    "                        description = 'x', readout = False)\n",
    "out = widgets.Label(r'\\({0}^2 = {1}\\)'.format(val,val*val))\n",
    "def handle_inp_change(value):\n",
    "    out.value = r'\\({0}^2 = {1}\\)'.format(value.new,value.new*value.new)\n",
    "inp.observe(handle_inp_change,'value')\n",
    "display(widgets.HBox([inp,out]))"
   ]
  },
  {
   "cell_type": "markdown",
   "id": "c5cae593",
   "metadata": {},
   "source": [
    "---\n",
    "## Creating and binding a button to a python function\n",
    "We can create button in ipywidgets, and make it call a function whenever it is clicked. For example:"
   ]
  },
  {
   "cell_type": "code",
   "execution_count": null,
   "id": "995c0f0c",
   "metadata": {},
   "outputs": [],
   "source": [
    "def printOutText(txt):\n",
    "\tprint(txt)\n",
    "output = widgets.Output()\n",
    "button = widgets.Button(\n",
    "    description='Click me',\n",
    "    disabled=False,\n",
    "    button_style='', # 'success', 'info', 'warning', 'danger' or ''\n",
    "    tooltip='Click me',\n",
    "    icon='check' # (FontAwesome names without the `fa-` prefix)\n",
    ")\n",
    "text_field = widgets.Text(\n",
    "    value='Hello World',\n",
    "    placeholder='Text',\n",
    "    description='Message you want to print:',\n",
    "    disabled=False\n",
    ")\n",
    "button.on_click(printOutText, text_field.value)\n",
    "row = widgets.HBox([text_field, button])\n",
    "display(row, output)"
   ]
  },
  {
   "cell_type": "code",
   "execution_count": null,
   "id": "139bfcdb",
   "metadata": {},
   "outputs": [],
   "source": [
    "from IPython.display import display\n",
    "import sys\n",
    "button = widgets.Button(description=\"Click Me!\")\n",
    "output = widgets.Output()\n",
    "\n",
    "display(button, output)\n",
    "\n",
    "def on_button_clicked(b):\n",
    "    print('clicked', file=sys.stderr)\n",
    "    with output:\n",
    "        print(\"Button clicked.\", file=sys.stderr)\n",
    "\n",
    "button.on_click(on_button_clicked)"
   ]
  },
  {
   "cell_type": "markdown",
   "id": "a138a757",
   "metadata": {},
   "source": [
    "```{note}\n",
    "changed the format form .md to ipynb, and it still donesn't work at the end of the day.\n",
    "will look for other method of fix next day.\n",
    "```"
   ]
  }
 ],
 "metadata": {
  "kernelspec": {
   "display_name": "Python 3",
   "language": "python",
   "name": "python3"
  }
 },
 "nbformat": 4,
 "nbformat_minor": 5
}
