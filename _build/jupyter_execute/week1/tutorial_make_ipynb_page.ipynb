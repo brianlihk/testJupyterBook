{
 "cells": [
  {
   "cell_type": "markdown",
   "id": "e1ad687a",
   "metadata": {},
   "source": [
    "# How to create a executable page in jupyter book (17 Jan 2022)\n",
    "\n",
    "## Introduction\n",
    "\n",
    "In order to make a page executable, we will need some work to do it.\n",
    "\n",
    "---\n",
    "\n",
    "## Prepare the .md file\n",
    "\n",
    "To make the code executable, we will need to add front-matter YAML block to state to the machine that we are using python3 code.\n",
    "\n",
    "Add this block on top of your .md file so the file recognize it as a executable page.\n",
    "```\n",
    "---\n",
    "jupytext:\n",
    "  formats: md:myst\n",
    "  text_representation:\n",
    "    extension: .md\n",
    "    format_name: myst\n",
    "kernelspec:\n",
    "  display_name: Python 3\n",
    "  language: python\n",
    "  name: python3\n",
    "---\n",
    "```\n",
    "\n",
    "When we need to make a executable code, we need to code inside the code-cell, the format of the code-cell is like below:\n",
    "\n",
    "````md\n",
    "```{code-cell} ipython3\n",
    "\n",
    "```\n",
    "````\n",
    "\n",
    "We can put python code into the space in the middle and it will execute and return result for us below the cell\n",
    "\n",
    "\n",
    "## Have some fun with it!\n",
    "\n",
    "```{note}\n",
    "Lets make some fun on this block and try to print out some message!\n",
    "```\n",
    "````md\n",
    "---\n",
    "jupytext:\n",
    "  formats: md:myst\n",
    "  text_representation:\n",
    "    extension: .md\n",
    "    format_name: myst\n",
    "kernelspec:\n",
    "  display_name: Python 3\n",
    "  language: python\n",
    "  name: python3\n",
    "---\n",
    "\n",
    "```{code-cell} ipython3\n",
    "from datetime import datetime\n",
    "\n",
    "now = datetime.now()\n",
    "\n",
    "print(f'This is a message executed at {now.strftime(\"%d/%m/%Y %H:%M:%S\")}')\n",
    "```\n",
    "````\n",
    "\n",
    "Result:"
   ]
  },
  {
   "cell_type": "code",
   "execution_count": 1,
   "id": "d2f0ce77",
   "metadata": {},
   "outputs": [
    {
     "name": "stdout",
     "output_type": "stream",
     "text": [
      "This is a message executed at 14/04/2022 22:27:14\n"
     ]
    }
   ],
   "source": [
    "from datetime import datetime\n",
    "\n",
    "now = datetime.now()\n",
    "\n",
    "print(f'This is a message executed at {now.strftime(\"%d/%m/%Y %H:%M:%S\")}')"
   ]
  }
 ],
 "metadata": {
  "jupytext": {
   "formats": "md:myst",
   "text_representation": {
    "extension": ".md",
    "format_name": "myst"
   }
  },
  "kernelspec": {
   "display_name": "Python 3",
   "language": "python",
   "name": "python3"
  },
  "language_info": {
   "codemirror_mode": {
    "name": "ipython",
    "version": 3
   },
   "file_extension": ".py",
   "mimetype": "text/x-python",
   "name": "python",
   "nbconvert_exporter": "python",
   "pygments_lexer": "ipython3",
   "version": "3.9.7"
  },
  "source_map": [
   11,
   80
  ]
 },
 "nbformat": 4,
 "nbformat_minor": 5
}