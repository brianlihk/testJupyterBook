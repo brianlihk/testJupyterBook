{
 "cells": [
  {
   "cell_type": "markdown",
   "id": "aefd7d79",
   "metadata": {},
   "source": [
    "# Testing on Thebe in jupyterbook\n",
    "\n",
    "## Thebe initaliaztion and configureation\n",
    "<script type=\"text/x-thebe-config\"> \n",
    "  {\n",
    "      requestKernel: true,\n",
    "      mountActivateWidget: true,\n",
    "      mountStatusWidget: true,\n",
    "      binderOptions: {\n",
    "      repo: \"binder-examples/requirements\",\n",
    "      },\n",
    "  }\n",
    "</script>\n",
    "\n",
    "<script src=\"https://unpkg.com/thebe@latest/lib/index.js\"></script>\n",
    "```\n",
    "<script type=\"text/x-thebe-config\">\n",
    "  {\n",
    "      requestKernel: true,\n",
    "      mountActivateWidget: true,\n",
    "      mountStatusWidget: true,\n",
    "      binderOptions: {\n",
    "      repo: \"binder-examples/requirements\",\n",
    "      },\n",
    "  }\n",
    "</script>\n",
    "\n",
    "<script src=\"https://unpkg.com/thebe@latest/lib/index.js\"></script>\n",
    "```\n",
    "\n",
    "## Creating activate and run buttons\n",
    "<div class=\"thebe-activate\"></div>\n",
    "<div class=\"thebe-status\"></div>\n",
    "\n",
    "```\n",
    "<div class=\"thebe-activate\"></div>\n",
    "<div class=\"thebe-status\"></div>\n",
    "```\n",
    "\n",
    "## Creating executable cell\n",
    "<pre data-executable=\"true\" data-language=\"python\">print(\"Hello!\")</pre>\n",
    "```\n",
    "<pre data-executable=\"true\" data-language=\"python\">print(\"Hello!\")</pre>\n",
    "```\n",
    "\n",
    "## Details\n",
    "We used jupyter lite to perform demostration in python as we don't have a way to attach a cheap and fast kernel into jupyterbook previously. We now have a new solution to be tested if it is worth to use. Binder is a remote kernel to run python scripts on, we can attach one into the page and execute the code in jupyterbook in realtime.\n",
    "\n",
    "The script above uses a example binder in the original github repository, and doesn't work everytime while activating the binder. I will try to fork one into my repo, hoping to reduce any confliction or unknown error with other user during runtime. I will change the repo into my forked one on the next page."
   ]
  }
 ],
 "metadata": {
  "jupytext": {
   "formats": "md:myst",
   "text_representation": {
    "extension": ".md",
    "format_name": "myst"
   }
  },
  "kernelspec": {
   "display_name": "Python 3",
   "language": "python",
   "name": "python3"
  },
  "language_info": {
   "codemirror_mode": {
    "name": "ipython",
    "version": 3
   },
   "file_extension": ".py",
   "mimetype": "text/x-python",
   "name": "python",
   "nbconvert_exporter": "python",
   "pygments_lexer": "ipython3",
   "version": "3.9.7"
  },
  "source_map": [
   11
  ]
 },
 "nbformat": 4,
 "nbformat_minor": 5
}