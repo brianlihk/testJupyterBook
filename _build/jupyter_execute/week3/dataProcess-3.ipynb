{
 "cells": [
  {
   "cell_type": "markdown",
   "id": "16664a84",
   "metadata": {},
   "source": [
    "# Chart.js with Jupyter book - 2\n",
    "\n",
    "## Testing on javascript and ipywidget\n",
    "\n",
    "### Attempt 2"
   ]
  },
  {
   "cell_type": "code",
   "execution_count": 1,
   "id": "c10e2aac",
   "metadata": {},
   "outputs": [
    {
     "name": "stderr",
     "output_type": "stream",
     "text": [
      "/var/folders/6y/wj224kz14r7fmfq5j9h9y9pr0000gn/T/ipykernel_38140/1926814118.py:2: DeprecationWarning: Importing display from IPython.core.display is deprecated since IPython 7.14, please import from IPython display\n",
      "  from IPython.core.display import display, HTML\n"
     ]
    },
    {
     "data": {
      "text/html": [
       "\n",
       "<script>\n",
       "    count = 0;\n",
       "    widget = document.getElementById(\"tester-p\");\n",
       "    console.log(widget);\n",
       "    widget.innerHTML = count;\n",
       "</script>\n",
       "\n"
      ],
      "text/plain": [
       "<IPython.core.display.HTML object>"
      ]
     },
     "metadata": {},
     "output_type": "display_data"
    },
    {
     "data": {
      "application/vnd.jupyter.widget-view+json": {
       "model_id": "891ace934f0c412f8ac8868d735ba666",
       "version_major": 2,
       "version_minor": 0
      },
      "text/plain": [
       "HTML(value=\"<p id='tester-p'>Hello World!</p>\")"
      ]
     },
     "metadata": {},
     "output_type": "display_data"
    }
   ],
   "source": [
    "import ipywidgets as ui\n",
    "from IPython.core.display import display, HTML\n",
    "\n",
    "# Use IPython's HTML for the script\n",
    "my_script = HTML(\"\"\"\n",
    "    <script>\n",
    "        count = 0;\n",
    "        widget = document.getElementById(\"tester-p\");\n",
    "        console.log(widget);\n",
    "        widget.innerHTML = count;\n",
    "    </script>\n",
    "\n",
    "\"\"\")\n",
    "\n",
    "display(my_script)\n",
    "\n",
    "# Use ipywidgets HTML for the widget\n",
    "text = ui.HTML(\"<p id='tester-p'>Hello World!</p>\")   \n",
    "display(text)"
   ]
  },
  {
   "cell_type": "markdown",
   "id": "c93a1140",
   "metadata": {},
   "source": [
    "Still, IPython core is rendered before ipywidgets even we changed the order in script.\n",
    "\n",
    "### Attempt 3"
   ]
  },
  {
   "cell_type": "code",
   "execution_count": 2,
   "id": "436f2757",
   "metadata": {},
   "outputs": [
    {
     "name": "stderr",
     "output_type": "stream",
     "text": [
      "/var/folders/6y/wj224kz14r7fmfq5j9h9y9pr0000gn/T/ipykernel_38140/2041957232.py:1: DeprecationWarning: Importing display from IPython.core.display is deprecated since IPython 7.14, please import from IPython display\n",
      "  from IPython.core.display import display, HTML\n"
     ]
    },
    {
     "data": {
      "text/html": [
       "<p id='tester-p'>Hello World!</p>"
      ],
      "text/plain": [
       "<IPython.core.display.HTML object>"
      ]
     },
     "metadata": {},
     "output_type": "display_data"
    },
    {
     "data": {
      "text/html": [
       "\n",
       "<script>\n",
       "    count = 0;\n",
       "    widget = document.getElementById(\"tester-p\");\n",
       "    console.log(widget);\n",
       "    widget.innerHTML = count;\n",
       "</script>\n",
       "\n"
      ],
      "text/plain": [
       "<IPython.core.display.HTML object>"
      ]
     },
     "metadata": {},
     "output_type": "display_data"
    }
   ],
   "source": [
    "from IPython.core.display import display, HTML\n",
    "\n",
    "text = HTML(\"<p id='tester-p'>Hello World!</p>\")   \n",
    "display(text)\n",
    "\n",
    "my_script = HTML(\"\"\"\n",
    "    <script>\n",
    "        count = 0;\n",
    "        widget = document.getElementById(\"tester-p\");\n",
    "        console.log(widget);\n",
    "        widget.innerHTML = count;\n",
    "    </script>\n",
    "\n",
    "\"\"\")\n",
    "\n",
    "display(my_script)"
   ]
  },
  {
   "cell_type": "markdown",
   "id": "c603c5ad",
   "metadata": {},
   "source": [
    "Pure IPython core is used, and the result is shown flawlessly.\n",
    "\n",
    "### Attempt 4"
   ]
  },
  {
   "cell_type": "code",
   "execution_count": 3,
   "id": "568010f4",
   "metadata": {},
   "outputs": [
    {
     "name": "stderr",
     "output_type": "stream",
     "text": [
      "/var/folders/6y/wj224kz14r7fmfq5j9h9y9pr0000gn/T/ipykernel_38140/466511866.py:1: DeprecationWarning: Importing display from IPython.core.display is deprecated since IPython 7.14, please import from IPython display\n",
      "  from IPython.core.display import display, HTML\n"
     ]
    },
    {
     "data": {
      "text/html": [
       "<p id='tester-p'>Hello World!</p>"
      ],
      "text/plain": [
       "<IPython.core.display.HTML object>"
      ]
     },
     "metadata": {},
     "output_type": "display_data"
    },
    {
     "data": {
      "text/html": [
       "<button id='btn' onClick='changeDigit()'>Change</button>"
      ],
      "text/plain": [
       "<IPython.core.display.HTML object>"
      ]
     },
     "metadata": {},
     "output_type": "display_data"
    },
    {
     "data": {
      "text/html": [
       "\n",
       "<script>\n",
       "    var count = 0;\n",
       "    function changeDigit(){\n",
       "      widget = document.getElementById(\"tester-p\");\n",
       "      console.log(widget);\n",
       "      count++;\n",
       "      widget.innerHTML = count;\n",
       "    }\n",
       "</script>\n",
       "\n"
      ],
      "text/plain": [
       "<IPython.core.display.HTML object>"
      ]
     },
     "metadata": {},
     "output_type": "display_data"
    }
   ],
   "source": [
    "from IPython.core.display import display, HTML\n",
    "\n",
    "text = HTML(\"<p id='tester-p'>Hello World!</p>\")\n",
    "button = HTML(\"<button id='btn' onClick='changeDigit()'>Change</button>\")\n",
    "display(text)\n",
    "display(button)\n",
    "\n",
    "my_script = HTML(\"\"\"\n",
    "    <script>\n",
    "        var count = 0;\n",
    "        function changeDigit(){\n",
    "          widget = document.getElementById(\"tester-p\");\n",
    "          console.log(widget);\n",
    "          count++;\n",
    "          widget.innerHTML = count;\n",
    "        }\n",
    "    </script>\n",
    "\n",
    "\"\"\")\n",
    "\n",
    "display(my_script)\n"
   ]
  },
  {
   "cell_type": "markdown",
   "id": "86c7f399",
   "metadata": {},
   "source": [
    "The function is working and verified from console, but the innerHTML didn't change.\n",
    "\n",
    "### Attempt 5"
   ]
  },
  {
   "cell_type": "code",
   "execution_count": 4,
   "id": "86e4e80f",
   "metadata": {},
   "outputs": [
    {
     "name": "stderr",
     "output_type": "stream",
     "text": [
      "/var/folders/6y/wj224kz14r7fmfq5j9h9y9pr0000gn/T/ipykernel_38140/2478301387.py:1: DeprecationWarning: Importing display from IPython.core.display is deprecated since IPython 7.14, please import from IPython display\n",
      "  from IPython.core.display import display, HTML\n"
     ]
    },
    {
     "data": {
      "text/html": [
       "<p id='atm4p'>Hello World!</p>"
      ],
      "text/plain": [
       "<IPython.core.display.HTML object>"
      ]
     },
     "metadata": {},
     "output_type": "display_data"
    },
    {
     "data": {
      "text/html": [
       "<button id='btn' onClick='changeDigit()'>Change</button>"
      ],
      "text/plain": [
       "<IPython.core.display.HTML object>"
      ]
     },
     "metadata": {},
     "output_type": "display_data"
    },
    {
     "data": {
      "text/html": [
       "\n",
       "<script>\n",
       "    var count = 0;\n",
       "    function changeDigit(){\n",
       "      widget = document.getElementById(\"atm4p\");\n",
       "      console.log(widget);\n",
       "      count++;\n",
       "      widget.innerHTML = count;\n",
       "    }\n",
       "</script>\n",
       "\n"
      ],
      "text/plain": [
       "<IPython.core.display.HTML object>"
      ]
     },
     "metadata": {},
     "output_type": "display_data"
    }
   ],
   "source": [
    "from IPython.core.display import display, HTML\n",
    "\n",
    "text = HTML(\"<p id='atm4p'>Hello World!</p>\")\n",
    "button = HTML(\"<button id='btn' onClick='changeDigit()'>Change</button>\")\n",
    "display(text)\n",
    "display(button)\n",
    "\n",
    "my_script = HTML(\"\"\"\n",
    "    <script>\n",
    "        var count = 0;\n",
    "        function changeDigit(){\n",
    "          widget = document.getElementById(\"atm4p\");\n",
    "          console.log(widget);\n",
    "          count++;\n",
    "          widget.innerHTML = count;\n",
    "        }\n",
    "    </script>\n",
    "\n",
    "\"\"\")\n",
    "\n",
    "display(my_script)\n"
   ]
  },
  {
   "cell_type": "markdown",
   "id": "33b9497f",
   "metadata": {},
   "source": [
    "Attemp 4 failed because it has shared the same pid with attemp 3. The issue was fixed by change the pid."
   ]
  }
 ],
 "metadata": {
  "jupytext": {
   "formats": "md:myst",
   "text_representation": {
    "extension": ".md",
    "format_name": "myst"
   }
  },
  "kernelspec": {
   "display_name": "Python 3",
   "language": "python",
   "name": "python3"
  },
  "language_info": {
   "codemirror_mode": {
    "name": "ipython",
    "version": 3
   },
   "file_extension": ".py",
   "mimetype": "text/x-python",
   "name": "python",
   "nbconvert_exporter": "python",
   "pygments_lexer": "ipython3",
   "version": "3.9.7"
  },
  "source_map": [
   11,
   17,
   37,
   41,
   58,
   63,
   86,
   91,
   114
  ],
  "widgets": {
   "application/vnd.jupyter.widget-state+json": {
    "state": {
     "891ace934f0c412f8ac8868d735ba666": {
      "model_module": "@jupyter-widgets/controls",
      "model_module_version": "1.5.0",
      "model_name": "HTMLModel",
      "state": {
       "_dom_classes": [],
       "_model_module": "@jupyter-widgets/controls",
       "_model_module_version": "1.5.0",
       "_model_name": "HTMLModel",
       "_view_count": null,
       "_view_module": "@jupyter-widgets/controls",
       "_view_module_version": "1.5.0",
       "_view_name": "HTMLView",
       "description": "",
       "description_tooltip": null,
       "layout": "IPY_MODEL_ea16388f7f5b476d9a6b32fc44e0cd79",
       "placeholder": "​",
       "style": "IPY_MODEL_b28db07450cc44ec8b0f6de5ccffcaa6",
       "value": "<p id='tester-p'>Hello World!</p>"
      }
     },
     "b28db07450cc44ec8b0f6de5ccffcaa6": {
      "model_module": "@jupyter-widgets/controls",
      "model_module_version": "1.5.0",
      "model_name": "DescriptionStyleModel",
      "state": {
       "_model_module": "@jupyter-widgets/controls",
       "_model_module_version": "1.5.0",
       "_model_name": "DescriptionStyleModel",
       "_view_count": null,
       "_view_module": "@jupyter-widgets/base",
       "_view_module_version": "1.2.0",
       "_view_name": "StyleView",
       "description_width": ""
      }
     },
     "ea16388f7f5b476d9a6b32fc44e0cd79": {
      "model_module": "@jupyter-widgets/base",
      "model_module_version": "1.2.0",
      "model_name": "LayoutModel",
      "state": {
       "_model_module": "@jupyter-widgets/base",
       "_model_module_version": "1.2.0",
       "_model_name": "LayoutModel",
       "_view_count": null,
       "_view_module": "@jupyter-widgets/base",
       "_view_module_version": "1.2.0",
       "_view_name": "LayoutView",
       "align_content": null,
       "align_items": null,
       "align_self": null,
       "border": null,
       "bottom": null,
       "display": null,
       "flex": null,
       "flex_flow": null,
       "grid_area": null,
       "grid_auto_columns": null,
       "grid_auto_flow": null,
       "grid_auto_rows": null,
       "grid_column": null,
       "grid_gap": null,
       "grid_row": null,
       "grid_template_areas": null,
       "grid_template_columns": null,
       "grid_template_rows": null,
       "height": null,
       "justify_content": null,
       "justify_items": null,
       "left": null,
       "margin": null,
       "max_height": null,
       "max_width": null,
       "min_height": null,
       "min_width": null,
       "object_fit": null,
       "object_position": null,
       "order": null,
       "overflow": null,
       "overflow_x": null,
       "overflow_y": null,
       "padding": null,
       "right": null,
       "top": null,
       "visibility": null,
       "width": null
      }
     }
    },
    "version_major": 2,
    "version_minor": 0
   }
  }
 },
 "nbformat": 4,
 "nbformat_minor": 5
}